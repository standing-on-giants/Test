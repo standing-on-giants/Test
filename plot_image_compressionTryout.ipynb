{
 "cells": [
  {
   "cell_type": "code",
   "execution_count": null,
   "metadata": {},
   "outputs": [],
   "source": [
    "#Imports\n",
    "import matplotlib.pyplot as plt\n",
    "from scipy.misc import face\n",
    "\n",
    "\n",
    "\n",
    "\n"
   ]
  },
  {
   "cell_type": "markdown",
   "metadata": {},
   "source": []
  },
  {
   "cell_type": "code",
   "execution_count": null,
   "metadata": {},
   "outputs": [],
   "source": [
    "#Input: Load the image\n",
    "image = face()\n",
    "\n",
    "\n",
    "#Processing: \n",
    "\n",
    "    #Performing tucker decomposition\n",
    "\n",
    "\n",
    "\n",
    "#Output: Show the image\n",
    "\n",
    "#Displaying the original image\n",
    "fig = plt.figure()\n",
    "ax.add_subplot()\n",
    "ax.imshow(image)\n",
    "\n",
    "\n",
    "\n",
    "#Displaying the decomposed image\n",
    "ax.imshow(decomposed_image)\n"
   ]
  }
 ],
 "metadata": {
  "language_info": {
   "name": "python"
  }
 },
 "nbformat": 4,
 "nbformat_minor": 2
}
